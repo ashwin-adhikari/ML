{
 "cells": [
  {
   "cell_type": "code",
   "execution_count": 1,
   "metadata": {},
   "outputs": [],
   "source": [
    "import numpy as np\n",
    "import pandas as pd\n",
    "from scipy import stats \n"
   ]
  },
  {
   "cell_type": "code",
   "execution_count": null,
   "metadata": {},
   "outputs": [],
   "source": [
    "car_data = pd.read_csv(\"car_details.csv\")\n",
    "\n",
    "\n",
    "# car_data_new = pd.DataFrame(car_data,column=['Make','Model','Price','Year','Fuel Type','Engine','Color','Seating Capacity','Fuel Tank Capacity'])\n",
    "car_data_sorted = car_data.sort_values(by='Year')\n",
    "car_data_sorted.tail()\n"
   ]
  },
  {
   "cell_type": "code",
   "execution_count": 48,
   "metadata": {},
   "outputs": [
    {
     "name": "stdout",
     "output_type": "stream",
     "text": [
      "54224.714\n"
     ]
    }
   ],
   "source": [
    "mean = np.mean(car_data_sorted['Kilometer'])\n",
    "print(round(mean,3))"
   ]
  },
  {
   "cell_type": "code",
   "execution_count": null,
   "metadata": {},
   "outputs": [
    {
     "name": "stdout",
     "output_type": "stream",
     "text": [
      "3288769030.8256836\n"
     ]
    }
   ],
   "source": [
    "var = np.var(car_data_sorted['Kilometer'])\n",
    "print(var)"
   ]
  },
  {
   "cell_type": "code",
   "execution_count": 47,
   "metadata": {},
   "outputs": [
    {
     "name": "stdout",
     "output_type": "stream",
     "text": [
      "50000.0\n",
      "2018\n",
      "57361.7213\n",
      "2000000\n",
      "0\n",
      "29000.0\n",
      "72000.0\n",
      "43000.0\n"
     ]
    }
   ],
   "source": [
    "print(np.median(car_data_sorted['Kilometer']))\n",
    "print(stats.mode(car_data_sorted['Year'])[0])\n",
    "print(round(np.std(car_data_sorted['Kilometer'],ddof=1),4))\n",
    "print(np.max(car_data_sorted['Kilometer']))\n",
    "print(np.min(car_data_sorted['Kilometer']))\n",
    "print(np.quantile(car_data['Kilometer'],0.25))\n",
    "print(np.quantile(car_data['Kilometer'],0.75))\n",
    "\n",
    "print(-np.quantile(car_data['Kilometer'],0.25)+ np.quantile(car_data['Kilometer'],0.75))"
   ]
  }
 ],
 "metadata": {
  "kernelspec": {
   "display_name": "Python 3",
   "language": "python",
   "name": "python3"
  },
  "language_info": {
   "codemirror_mode": {
    "name": "ipython",
    "version": 3
   },
   "file_extension": ".py",
   "mimetype": "text/x-python",
   "name": "python",
   "nbconvert_exporter": "python",
   "pygments_lexer": "ipython3",
   "version": "3.11.1"
  }
 },
 "nbformat": 4,
 "nbformat_minor": 2
}
