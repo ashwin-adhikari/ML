{
 "cells": [
  {
   "cell_type": "code",
   "execution_count": 19,
   "metadata": {},
   "outputs": [],
   "source": [
    "#import relevant libraries\n",
    "import numpy as np\n",
    "import pandas as pd\n",
    "from scipy import stats \n"
   ]
  },
  {
   "cell_type": "code",
   "execution_count": null,
   "metadata": {},
   "outputs": [],
   "source": [
    "#load data into dataframe\n",
    "covid_data = pd.read_csv(\"covid_data.csv\")\n",
    "covid_data.head()"
   ]
  },
  {
   "cell_type": "code",
   "execution_count": null,
   "metadata": {},
   "outputs": [],
   "source": [
    "covid_data.tail()"
   ]
  },
  {
   "cell_type": "code",
   "execution_count": null,
   "metadata": {},
   "outputs": [],
   "source": [
    "covid_data.info()"
   ]
  },
  {
   "cell_type": "code",
   "execution_count": null,
   "metadata": {},
   "outputs": [],
   "source": [
    "#create a dataframe that loads relevant columns\n",
    "covid_datanew = covid_data[['iso_code','continent','location','date','total_cases','new_cases']]\n",
    "covid_datanew.head(5)"
   ]
  },
  {
   "cell_type": "code",
   "execution_count": null,
   "metadata": {},
   "outputs": [],
   "source": [
    "#investigating the data type of the dataframe\n",
    "covid_datanew.dtypes"
   ]
  },
  {
   "cell_type": "code",
   "execution_count": 9,
   "metadata": {},
   "outputs": [
    {
     "data": {
      "text/plain": [
       "(5818, 67)"
      ]
     },
     "execution_count": 9,
     "metadata": {},
     "output_type": "execute_result"
    }
   ],
   "source": [
    "#displaying the shape of the dataframe (rows x columns)\n",
    "covid_data.shape"
   ]
  },
  {
   "cell_type": "code",
   "execution_count": 10,
   "metadata": {},
   "outputs": [
    {
     "name": "stdout",
     "output_type": "stream",
     "text": [
      "New case (mean): 8814.365761430045\n"
     ]
    }
   ],
   "source": [
    "#analyze the mean of the new_cases column using the np.mean() in numpy\n",
    "newcase_mean = np.mean(covid_datanew[\"new_cases\"])\n",
    "\n",
    "print(\"New case (mean):\", newcase_mean)"
   ]
  },
  {
   "cell_type": "code",
   "execution_count": 11,
   "metadata": {},
   "outputs": [
    {
     "name": "stdout",
     "output_type": "stream",
     "text": [
      "261.0\n"
     ]
    }
   ],
   "source": [
    "new_case_median = np.median(covid_datanew[\"new_cases\"])\n",
    "print(new_case_median)"
   ]
  },
  {
   "cell_type": "code",
   "execution_count": 12,
   "metadata": {},
   "outputs": [
    {
     "name": "stdout",
     "output_type": "stream",
     "text": [
      "805\n"
     ]
    }
   ],
   "source": [
    "#mode\n",
    "\n",
    "print(stats.mode(covid_datanew[\"new_cases\"])[1])"
   ]
  },
  {
   "cell_type": "code",
   "execution_count": 13,
   "metadata": {},
   "outputs": [
    {
     "name": "stdout",
     "output_type": "stream",
     "text": [
      "451321915.9280954\n",
      "451399502.6421969\n"
     ]
    }
   ],
   "source": [
    "#variance using Numpy\n",
    "\n",
    "print(np.var(covid_datanew[\"new_cases\"]))\n",
    "\n",
    "# another method for calculating variancce\n",
    "\n",
    "print(covid_datanew[\"new_cases\"].var())"
   ]
  },
  {
   "cell_type": "code",
   "execution_count": 14,
   "metadata": {},
   "outputs": [
    {
     "name": "stdout",
     "output_type": "stream",
     "text": [
      "New cases (stdev: numpy): 21246.164421895\n",
      "21246.164421895\n"
     ]
    }
   ],
   "source": [
    "#standard deviation using Numpy\n",
    "# 'ddof=0' for population standard deviation; 'ddof=1' for sample standard deviation\n",
    "newcase_stdev = np.std(covid_datanew[\"new_cases\"], ddof=1)\n",
    "\n",
    "print(\"New cases (stdev: numpy):\", newcase_stdev)\n",
    "\n",
    "#another method\n",
    "print(covid_datanew[\"new_cases\"].std())"
   ]
  },
  {
   "cell_type": "code",
   "execution_count": 15,
   "metadata": {},
   "outputs": [
    {
     "name": "stdout",
     "output_type": "stream",
     "text": [
      "287149 0\n"
     ]
    }
   ],
   "source": [
    "#Calculate the range of the dataset using NumPy\n",
    "covid_newcases_max = np.max(covid_datanew[\"new_cases\"])\n",
    "covid_newcases_min = np.min(covid_datanew[\"new_cases\"])\n",
    "\n",
    "print(covid_newcases_max, covid_newcases_min)"
   ]
  },
  {
   "cell_type": "code",
   "execution_count": null,
   "metadata": {},
   "outputs": [],
   "source": [
    "# Calculate quartiles\n",
    "Q1 = np.quantile(covid_data[\"new_cases\"],0.25)\n",
    "Q3 = np.quantile(covid_data[\"new_cases\"],0.75)\n",
    "Q2 = np.quantile(covid_data[\"new_cases\"],0.5)\n",
    "\n",
    "# Calculate the Interquartile Range\n",
    "IQR = Q3 - Q1\n",
    "\n",
    "print(\"Q1 (25th percentile):\", Q1)\n",
    "print(\"Q3 (75th percentile):\", Q3)\n",
    "print(\"Interquartile Range:\", IQR)\n",
    "print(Q2) \n",
    "# notice that Q2 is equal to median value hence it is another way to calculate median"
   ]
  }
 ],
 "metadata": {
  "kernelspec": {
   "display_name": "Python 3",
   "language": "python",
   "name": "python3"
  },
  "language_info": {
   "codemirror_mode": {
    "name": "ipython",
    "version": 3
   },
   "file_extension": ".py",
   "mimetype": "text/x-python",
   "name": "python",
   "nbconvert_exporter": "python",
   "pygments_lexer": "ipython3",
   "version": "3.11.1"
  }
 },
 "nbformat": 4,
 "nbformat_minor": 2
}
