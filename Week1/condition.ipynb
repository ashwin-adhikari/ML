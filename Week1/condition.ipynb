{
 "cells": [
  {
   "cell_type": "code",
   "execution_count": 20,
   "id": "84f065f3-8a84-420c-8b5b-f6e9f25ca4a6",
   "metadata": {},
   "outputs": [],
   "source": [
    "def check_for_membership(time, age, sessions,refers):\n",
    "    if refers > 3:\n",
    "        is_eligible = True\n",
    "        return \"You are eligible for membership\"\n",
    "    else:\n",
    "        is_eligible = (time >= 2 or age > 60) and sessions >= 100\n",
    "        if is_eligible:\n",
    "            return \"You are eligible for membership\"\n",
    "        else:\n",
    "            return \"You are not eligible for membership\"\n",
    "\n"
   ]
  },
  {
   "cell_type": "code",
   "execution_count": 36,
   "id": "c7a97101",
   "metadata": {},
   "outputs": [
    {
     "name": "stdout",
     "output_type": "stream",
     "text": [
      "You are eligible for membership\n"
     ]
    }
   ],
   "source": [
    "#test \n",
    "time =3\n",
    "age = 34\n",
    "sessions = 111\n",
    "refers = 2\n",
    "print(check_for_membership(time,age,sessions,refers))\n",
    "\n"
   ]
  }
 ],
 "metadata": {
  "kernelspec": {
   "display_name": "Python 3",
   "language": "python",
   "name": "python3"
  },
  "language_info": {
   "codemirror_mode": {
    "name": "ipython",
    "version": 3
   },
   "file_extension": ".py",
   "mimetype": "text/x-python",
   "name": "python",
   "nbconvert_exporter": "python",
   "pygments_lexer": "ipython3",
   "version": "3.11.1"
  }
 },
 "nbformat": 4,
 "nbformat_minor": 5
}
