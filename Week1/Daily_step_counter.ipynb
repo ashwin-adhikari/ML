{
 "cells": [
  {
   "cell_type": "code",
   "execution_count": null,
   "metadata": {},
   "outputs": [],
   "source": [
    "steps_for_days = {}\n",
    "for i in range(7):\n",
    "    day = input(\"Enter a day of the week: \")\n",
    "    steps = int(input(\"Enter the number of steps for that day: \"))\n",
    "    steps_for_days[day] = steps\n",
    "print(steps_for_days)\n"
   ]
  },
  {
   "cell_type": "code",
   "execution_count": null,
   "metadata": {},
   "outputs": [],
   "source": [
    "for day, steps in steps_for_days.items():\n",
    "    if steps < 5000:\n",
    "        print(f\"{day} sedentary\")\n",
    "    elif steps < 7500:\n",
    "        print(f\"{day} lightly active\")\n",
    "    elif steps <10000:\n",
    "        print(f\"{day} Moderately active\")\n",
    "    else:\n",
    "        print(f\"{day} Very active\")"
   ]
  }
 ],
 "metadata": {
  "kernelspec": {
   "display_name": "Python 3",
   "language": "python",
   "name": "python3"
  },
  "language_info": {
   "codemirror_mode": {
    "name": "ipython",
    "version": 3
   },
   "file_extension": ".py",
   "mimetype": "text/x-python",
   "name": "python",
   "nbconvert_exporter": "python",
   "pygments_lexer": "ipython3",
   "version": "3.11.1"
  }
 },
 "nbformat": 4,
 "nbformat_minor": 2
}
